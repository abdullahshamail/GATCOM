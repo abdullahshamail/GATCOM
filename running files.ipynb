{
 "cells": [
  {
   "cell_type": "code",
   "execution_count": 1,
   "metadata": {},
   "outputs": [],
   "source": [
    "import numpy as np\n",
    "import time\n",
    "from utils import donor_acceptor_dist\n",
    "\n",
    "# Load the representative atom\n",
    "ether_o =  np.loadtxt(r\"C:\\Users\\ashamail\\Desktop\\data\\os_200_1.txt\")\n",
    "ether_o = ether_o.reshape(ether_o.shape[0], ether_o.shape[1] // 3 , 3)\n",
    "\n",
    "# Load the donor atom\n",
    "donor_nh =  np.loadtxt(r\"C:\\Users\\ashamail\\Desktop\\data\\nitrogen200k.txt\")\n",
    "donor_nh = donor_nh.reshape(donor_nh.shape[0], donor_nh.shape[1] // 3 , 3)\n",
    "\n",
    "\n",
    "  \n"
   ]
  },
  {
   "cell_type": "code",
   "execution_count": 17,
   "metadata": {},
   "outputs": [
    {
     "name": "stdout",
     "output_type": "stream",
     "text": [
      "25.83992099761963 spm 0.5 (570,)\n",
      "24.03546905517578 rdp 0.5 (571,)\n",
      "13.486045598983765 spm 0.75 (1506,)\n",
      "13.275726318359375 rdp 0.75 (1506,)\n",
      "7.983682870864868 spm 1.0 (3056,)\n",
      "7.754397392272949 rdp 1.0 (3056,)\n"
     ]
    }
   ],
   "source": [
    "# Load the time frame after classical compression\n",
    "for epsilon in [0.5, 0.75, 1.0]:\n",
    "    for method in [\"spm\", \"rdp\"]:\n",
    "        spm3D_compressed_traj = np.genfromtxt(r\"C:\\Users\\ashamail\\Desktop\\data\\rdp and spm compressed ether oxygen and true com\\trueO\"+method+str(epsilon)+\".csv\",delimiter=\",\")\n",
    "        spm3D_compressed_frame = np.arange(0, spm3D_compressed_traj.shape[0], dtype=int)\n",
    "\n",
    "\n",
    "        start = time.time()\n",
    "\n",
    "        # compute the HB instances\n",
    "        donor_acceptor_timestep, _ = donor_acceptor_dist (atom1_traj = ether_o [:, 0, :], atom2_traj = donor_nh, total_frame = spm3D_compressed_frame, hbond_threshold = 3.5 + 2* epsilon)\n",
    "\n",
    "        print (time.time() - start, method, epsilon, donor_acceptor_timestep.shape)  "
   ]
  },
  {
   "cell_type": "code",
   "execution_count": null,
   "metadata": {},
   "outputs": [],
   "source": []
  }
 ],
 "metadata": {
  "kernelspec": {
   "display_name": "drug-polymers",
   "language": "python",
   "name": "python3"
  },
  "language_info": {
   "codemirror_mode": {
    "name": "ipython",
    "version": 3
   },
   "file_extension": ".py",
   "mimetype": "text/x-python",
   "name": "python",
   "nbconvert_exporter": "python",
   "pygments_lexer": "ipython3",
   "version": "3.9.7"
  },
  "orig_nbformat": 4,
  "vscode": {
   "interpreter": {
    "hash": "1ecbca60692fcbcdaa1d2bd5d45a516ce56a1dfd695b1b93ce3c934829eab87d"
   }
  }
 },
 "nbformat": 4,
 "nbformat_minor": 2
}
