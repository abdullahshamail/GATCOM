{
 "cells": [
  {
   "cell_type": "code",
   "execution_count": 1,
   "metadata": {},
   "outputs": [],
   "source": [
    "import math\n",
    "\n",
    "import numpy as np\n",
    "from matplotlib import pyplot as plt\n",
    "from mpl_toolkits.mplot3d import Axes3D\n",
    "import pandas as pd\n",
    "import nestle\n",
    "from os.path import join\n",
    "import math\n",
    "import pickle\n",
    "from utilities import loadData, plot_ellipsoid_3d, lowest_point_z, lowest_point_y, lowest_point_x, SAVE_PATH, performRDP\n",
    "%matplotlib widget\n",
    "\n",
    "dataPath = r\"C:\\Users\\ashamail\\Box\\Shared Materials_Abdullah_Hasan\\Abdullah Data\\allAtomsWithRings.csv\"\n",
    "savePath = r\"C:\\Users\\ashamail\\Desktop\\drug-polymers\\adbis extension\\data\\ellipsoids\"\n",
    "savepathDrive = r\"C:\\Users\\ashamail\\OneDrive - Iowa State University\\Molecular Simulation Data\\adbis extension data\"\n",
    "oxygenPath = r\"C:\\Users\\ashamail\\OneDrive - Iowa State University\\Molecular Simulation Data\\Text Data Files\\flavanone_R1_os_0-200K.csv\"\n",
    "\n"
   ]
  },
  {
   "cell_type": "code",
   "execution_count": 2,
   "metadata": {},
   "outputs": [],
   "source": [
    "data = pd.read_csv(dataPath)\n",
    "oxygen = pd.read_csv(oxygenPath, header=None)\n",
    "oxygen = oxygen.rename(columns={0: \"x\", 1: \"y\", 2: \"z\"})\n",
    "df = pd.read_csv(join(savepathDrive, \"min_z_points.csv\"))\n",
    "\n",
    "rfl1path = r\"C:\\Users\\ashamail\\OneDrive - Iowa State University\\Molecular Simulation Data\\Text Data Files\\RFL1 Trajectory\\rfl1_200k_0.txt\"\n",
    "PSP = 44\n",
    "rfl1 = loadData(rfl1path)"
   ]
  },
  {
   "cell_type": "code",
   "execution_count": 3,
   "metadata": {},
   "outputs": [],
   "source": [
    "def plot_ell_and_plane_2(ell, points):\n",
    "    fig = plt.figure(figsize=(6., 6.))\n",
    "    ax = fig.add_subplot(111, projection='3d')\n",
    "\n",
    "    # z plane equations to plot\n",
    "\n",
    "    x = np.linspace(min(points[0]),max(points[0]),100)\n",
    "    y = np.linspace(min(points[1]),max(points[1]),100)\n",
    "    z = np.linspace(min(points[2]),max(points[2]),100)\n",
    "    a,b,c = 0,0,1\n",
    "    z_min = lowest_point_z(ell.a, ell.ctr)\n",
    "    x_min = lowest_point_x(ell.a, ell.ctr)\n",
    "    y_min = lowest_point_y(ell.a, ell.ctr)\n",
    "\n",
    "    X_1,Y_1 = np.meshgrid(x,y)\n",
    "    Y_2,Z_1 = np.meshgrid(y,z)\n",
    "    X_2,Z_2 = np.meshgrid(x,z)\n",
    "    \n",
    "    Z_PSP = (PSP - a*X_1 - b*Y_1) / c\n",
    "    X_MIN = (x_min - a*Y_2 - b*Z_1) / c\n",
    "    Y_MIN = (y_min - a*X_2 - b*Z_2) / c\n",
    "    Z_MIN = (z_min - a*X_1 - b*Y_1) / c\n",
    "\n",
    "    # ax.plot(x_min, y_min, z_min, marker=\"o\", color=\"red\")\n",
    "\n",
    "\n",
    "    ax.scatter(points[:, 0], points[:, 1], points[:, 2], c='k', marker='.')\n",
    "    ax.plot_surface(X_1, Y_1, Z_PSP)\n",
    "    ax.plot_surface(X_1, Y_1, Z_MIN)\n",
    "    # ax.plot_surface(X_MIN, Y_2, Z_1)\n",
    "    # ax.plot_surface(X_2, Y_MIN, Z_2)\n",
    "    plot_ellipsoid_3d(ell, ax)\n",
    "\n",
    "    ax.set_xlabel(\"x\")\n",
    "    ax.set_ylabel(\"y\")\n",
    "    ax.set_zlabel(\"z\")\n",
    "\n",
    "def plot_ell_and_plane(ell, points):\n",
    "\n",
    "    # Define the two plane equations\n",
    "    z1 = PSP\n",
    "    z2 = lowest_point_z(ell.a, ell.ctr)\n",
    "\n",
    "    # Create an array of x and y values for plotting\n",
    "    x = np.linspace(min(points[0]),max(points[0]), 100)\n",
    "    y = np.linspace(min(points[1]),max(points[1]), 100)\n",
    "\n",
    "    # Generate meshgrid from x and y\n",
    "    X, Y = np.meshgrid(x, y)\n",
    "\n",
    "    # Define Z for each plane\n",
    "    Z1 = np.ones_like(X) * z1\n",
    "    Z2 = np.ones_like(X) * z2\n",
    "\n",
    "    # Define line points\n",
    "    z = np.linspace(z1, z2, 100)\n",
    "    x = np.ones_like(z)*45\n",
    "    y = np.ones_like(z)*45\n",
    "\n",
    "    # Plot the figure\n",
    "    fig = plt.figure()\n",
    "    fig.subplots_adjust(left=0, right=1, bottom=0, top=1)\n",
    "    ax = fig.add_subplot(111, projection='3d')\n",
    "    ax.plot_surface(X, Y, Z1, color='red', alpha=0.5)\n",
    "    ax.plot_surface(X, Y, Z2, color='blue', alpha=0.5)\n",
    "    ax.plot(x, y, z, color='black', linewidth=2)\n",
    "    ax.scatter(points[:, 0], points[:, 1], points[:, 2], c='k', marker='.')\n",
    "    plot_ellipsoid_3d(ell, ax)\n",
    "    ax.set_xlabel('X')\n",
    "    ax.set_ylabel('Y')\n",
    "    ax.set_zlabel('Z')\n",
    "    ax.set_xticks([])\n",
    "\n",
    "    plt.show()\n",
    "\n",
    "\n",
    "def calc_distance_between_planes(ell, PSP):\n",
    "    z_min = lowest_point_z(ell.a, ell.ctr)\n",
    "    # print(z_min, PSP)\n",
    "    return abs(z_min - PSP)\n",
    "\n",
    "def saveEllCenters(data, path):\n",
    "    centers = []\n",
    "    for i in range(0, 200000):\n",
    "        points = data[i]\n",
    "        ell = nestle.bounding_ellipsoid(points)\n",
    "        centers.append(ell.ctr)\n",
    "    centers = np.array(centers)\n",
    "    with open(path, \"wb\") as f:\n",
    "        np.save(f, centers)\n",
    "    f.close()\n",
    "    return centers\n",
    "\n",
    "def saveMinPointsZ(data, path):\n",
    "    arr = []\n",
    "    for i in range(0, 200000):\n",
    "        points = data[i]\n",
    "        ell = nestle.bounding_ellipsoid(points)\n",
    "        z_min = lowest_point_z(ell.a, ell.ctr)\n",
    "        arr.append([i, z_min])\n",
    "        # print(z_min, i)\n",
    "    df = pd.DataFrame(arr, columns =['timestep', 'min_z'])\n",
    "    df.to_csv(path, index=False)\n",
    "    return df\n",
    "\n",
    "def runQueryDTheta(timesteps, oxygen):\n",
    "    temp = pd.DataFrame(oxygen[\"z\"][timesteps])\n",
    "    temp[\"difference\"] = temp[\"z\"].apply(lambda x: abs(x - PSP))\n",
    "    # display(temp[temp[\"difference\"] < 3.5])\n",
    "    return temp[temp[\"difference\"] <= 3.5].index.values\n",
    "\n"
   ]
  },
  {
   "cell_type": "code",
   "execution_count": 6,
   "metadata": {},
   "outputs": [
    {
     "ename": "NameError",
     "evalue": "name 'ax' is not defined",
     "output_type": "error",
     "traceback": [
      "\u001b[1;31m---------------------------------------------------------------------------\u001b[0m",
      "\u001b[1;31mNameError\u001b[0m                                 Traceback (most recent call last)",
      "\u001b[1;32m~\\AppData\\Local\\Temp/ipykernel_29976/965987271.py\u001b[0m in \u001b[0;36m<module>\u001b[1;34m\u001b[0m\n\u001b[0;32m      4\u001b[0m     \u001b[0mpoints\u001b[0m \u001b[1;33m=\u001b[0m \u001b[0mrfl1\u001b[0m\u001b[1;33m[\u001b[0m\u001b[0mi\u001b[0m\u001b[1;33m]\u001b[0m\u001b[1;33m\u001b[0m\u001b[1;33m\u001b[0m\u001b[0m\n\u001b[0;32m      5\u001b[0m     \u001b[0mell\u001b[0m \u001b[1;33m=\u001b[0m \u001b[0mnestle\u001b[0m\u001b[1;33m.\u001b[0m\u001b[0mbounding_ellipsoid\u001b[0m\u001b[1;33m(\u001b[0m\u001b[0mpoints\u001b[0m\u001b[1;33m)\u001b[0m\u001b[1;33m\u001b[0m\u001b[1;33m\u001b[0m\u001b[0m\n\u001b[1;32m----> 6\u001b[1;33m     \u001b[0max\u001b[0m\u001b[1;33m.\u001b[0m\u001b[0mset_xticks\u001b[0m\u001b[1;33m(\u001b[0m\u001b[1;33m[\u001b[0m\u001b[1;33m]\u001b[0m\u001b[1;33m)\u001b[0m\u001b[1;33m\u001b[0m\u001b[1;33m\u001b[0m\u001b[0m\n\u001b[0m\u001b[0;32m      7\u001b[0m     \u001b[0mplot_ell_and_plane\u001b[0m\u001b[1;33m(\u001b[0m\u001b[0mell\u001b[0m\u001b[1;33m,\u001b[0m \u001b[0mpoints\u001b[0m\u001b[1;33m)\u001b[0m\u001b[1;33m\u001b[0m\u001b[1;33m\u001b[0m\u001b[0m\n\u001b[0;32m      8\u001b[0m     \u001b[1;31m# min_z_points.append(lowest_point_z(ell.a, ell.ctr))\u001b[0m\u001b[1;33m\u001b[0m\u001b[1;33m\u001b[0m\u001b[0m\n",
      "\u001b[1;31mNameError\u001b[0m: name 'ax' is not defined"
     ]
    }
   ],
   "source": [
    "# calculate all minimum z points and plot them vs time in next cell\n",
    "min_z_points = []\n",
    "for i in range(1):\n",
    "    points = rfl1[i]\n",
    "    ell = nestle.bounding_ellipsoid(points)\n",
    "    \n",
    "    plot_ell_and_plane(ell, points)\n",
    "    # min_z_points.append(lowest_point_z(ell.a, ell.ctr))\n",
    "    # print(ell.a, ell.ctr)"
   ]
  },
  {
   "cell_type": "code",
   "execution_count": 36,
   "metadata": {},
   "outputs": [],
   "source": [
    "plt.savefig(join(savePath, \"ellipsoid min z to psp distance.pdf\"))"
   ]
  },
  {
   "cell_type": "code",
   "execution_count": 148,
   "metadata": {},
   "outputs": [],
   "source": [
    "# plt.clf()\n",
    "# plt_1 = plt.figure(figsize=(15, 5))\n",
    "# plt.plot(np.arange(0, 200000), min_z_points)\n",
    "# plt.ylabel(\"min z coordinates\")\n",
    "# plt.xlabel(\"time\")\n",
    "# plt.show()"
   ]
  },
  {
   "cell_type": "code",
   "execution_count": 30,
   "metadata": {},
   "outputs": [],
   "source": [
    "# save all centers of ellipsoids\n",
    "# centers = saveEllCenters(rfl1, join(SAVE_PATH, \"centers.txt\"))\n",
    "# with open(join(SAVE_PATH, \"centers.txt\"), 'rb') as f:\n",
    "    # centers = np.load(f)\n",
    "    # print(a[:10])"
   ]
  },
  {
   "cell_type": "code",
   "execution_count": 149,
   "metadata": {},
   "outputs": [
    {
     "data": {
      "text/html": [
       "<div>\n",
       "<style scoped>\n",
       "    .dataframe tbody tr th:only-of-type {\n",
       "        vertical-align: middle;\n",
       "    }\n",
       "\n",
       "    .dataframe tbody tr th {\n",
       "        vertical-align: top;\n",
       "    }\n",
       "\n",
       "    .dataframe thead th {\n",
       "        text-align: right;\n",
       "    }\n",
       "</style>\n",
       "<table border=\"1\" class=\"dataframe\">\n",
       "  <thead>\n",
       "    <tr style=\"text-align: right;\">\n",
       "      <th></th>\n",
       "      <th>0</th>\n",
       "      <th>1</th>\n",
       "      <th>2</th>\n",
       "    </tr>\n",
       "  </thead>\n",
       "  <tbody>\n",
       "    <tr>\n",
       "      <th>0</th>\n",
       "      <td>16.8982</td>\n",
       "      <td>21.7579</td>\n",
       "      <td>69.6761</td>\n",
       "    </tr>\n",
       "    <tr>\n",
       "      <th>1</th>\n",
       "      <td>17.4634</td>\n",
       "      <td>21.7329</td>\n",
       "      <td>69.3243</td>\n",
       "    </tr>\n",
       "    <tr>\n",
       "      <th>2</th>\n",
       "      <td>17.5462</td>\n",
       "      <td>22.6110</td>\n",
       "      <td>69.3149</td>\n",
       "    </tr>\n",
       "    <tr>\n",
       "      <th>3</th>\n",
       "      <td>17.3647</td>\n",
       "      <td>22.6614</td>\n",
       "      <td>68.7115</td>\n",
       "    </tr>\n",
       "    <tr>\n",
       "      <th>4</th>\n",
       "      <td>17.7786</td>\n",
       "      <td>22.3793</td>\n",
       "      <td>69.6186</td>\n",
       "    </tr>\n",
       "    <tr>\n",
       "      <th>...</th>\n",
       "      <td>...</td>\n",
       "      <td>...</td>\n",
       "      <td>...</td>\n",
       "    </tr>\n",
       "    <tr>\n",
       "      <th>199995</th>\n",
       "      <td>52.6511</td>\n",
       "      <td>62.8906</td>\n",
       "      <td>48.3386</td>\n",
       "    </tr>\n",
       "    <tr>\n",
       "      <th>199996</th>\n",
       "      <td>52.6382</td>\n",
       "      <td>63.0113</td>\n",
       "      <td>48.5268</td>\n",
       "    </tr>\n",
       "    <tr>\n",
       "      <th>199997</th>\n",
       "      <td>52.2599</td>\n",
       "      <td>63.2609</td>\n",
       "      <td>48.3279</td>\n",
       "    </tr>\n",
       "    <tr>\n",
       "      <th>199998</th>\n",
       "      <td>52.0997</td>\n",
       "      <td>64.0660</td>\n",
       "      <td>47.8470</td>\n",
       "    </tr>\n",
       "    <tr>\n",
       "      <th>199999</th>\n",
       "      <td>52.2419</td>\n",
       "      <td>63.3810</td>\n",
       "      <td>48.9714</td>\n",
       "    </tr>\n",
       "  </tbody>\n",
       "</table>\n",
       "<p>200000 rows × 3 columns</p>\n",
       "</div>"
      ],
      "text/plain": [
       "              0        1        2\n",
       "0       16.8982  21.7579  69.6761\n",
       "1       17.4634  21.7329  69.3243\n",
       "2       17.5462  22.6110  69.3149\n",
       "3       17.3647  22.6614  68.7115\n",
       "4       17.7786  22.3793  69.6186\n",
       "...         ...      ...      ...\n",
       "199995  52.6511  62.8906  48.3386\n",
       "199996  52.6382  63.0113  48.5268\n",
       "199997  52.2599  63.2609  48.3279\n",
       "199998  52.0997  64.0660  47.8470\n",
       "199999  52.2419  63.3810  48.9714\n",
       "\n",
       "[200000 rows x 3 columns]"
      ]
     },
     "execution_count": 149,
     "metadata": {},
     "output_type": "execute_result"
    }
   ],
   "source": []
  },
  {
   "cell_type": "code",
   "execution_count": 158,
   "metadata": {},
   "outputs": [
    {
     "name": "stdout",
     "output_type": "stream",
     "text": [
      "1 1383\n",
      "2 3208\n",
      "3 5801\n",
      "4 9117\n"
     ]
    }
   ],
   "source": [
    "# for all timesteps\n",
    "# can also plot an instance using the line below\n",
    "# plot_ell_and_plane(ell, points)\n",
    "d_deltas = [1,2,3,4]\n",
    "countPerDelta = {}\n",
    "for delta in d_deltas:\n",
    "    count = 0\n",
    "    df[\"difference\"] = df[\"min_z\"].apply(lambda x: abs(x - PSP))\n",
    "    points_less_than_delta = df[df[\"difference\"] < delta] #calculate ellipsoid and then calculate distance between min point and PSP using d_delte (1,2,3,4)\n",
    "    # print(points_less_than_delta)\n",
    "    timesteps = runQueryDTheta(np.array(points_less_than_delta[\"timestep\"]), oxygen) #for each d_delta instances, run the d_theta query\n",
    "    countPerDelta[delta] = timesteps\n",
    "\n",
    "for key, val in countPerDelta.items():\n",
    "    print(key, val.shape[0])"
   ]
  },
  {
   "cell_type": "code",
   "execution_count": 6,
   "metadata": {},
   "outputs": [
    {
     "name": "stdout",
     "output_type": "stream",
     "text": [
      "(112716, 4)\n",
      "[[1.65232814e+01 2.23942018e+01 6.98572603e+01 0.00000000e+00]\n",
      " [1.72788991e+01 2.28284266e+01 7.00962517e+01 4.00000000e+00]\n",
      " [1.68133426e+01 2.26674728e+01 6.92919164e+01 6.00000000e+00]\n",
      " ...\n",
      " [5.29564437e+01 6.31213299e+01 4.79556922e+01 1.99994000e+05]\n",
      " [5.18027979e+01 6.42039316e+01 4.82512107e+01 1.99997000e+05]\n",
      " [5.18213194e+01 6.41279507e+01 4.89323295e+01 1.99999000e+05]]\n"
     ]
    }
   ],
   "source": [
    "# #perform spm3d on the centers\n",
    "# rfl1centersSPM = spm3d(centers, 0.5)\n",
    "# print(rfl1centersSPM.shape)\n",
    "# print(rfl1centersSPM)"
   ]
  },
  {
   "cell_type": "code",
   "execution_count": 5,
   "metadata": {},
   "outputs": [
    {
     "name": "stdout",
     "output_type": "stream",
     "text": [
      "(114173, 4)\n",
      "[[1.65232814e+01 2.23942018e+01 6.98572603e+01 0.00000000e+00]\n",
      " [1.68604005e+01 2.29457395e+01 6.93292278e+01 3.00000000e+00]\n",
      " [1.72788991e+01 2.28284266e+01 7.00962517e+01 4.00000000e+00]\n",
      " ...\n",
      " [5.29564437e+01 6.31213299e+01 4.79556922e+01 1.99994000e+05]\n",
      " [5.15989190e+01 6.46917170e+01 4.79105406e+01 1.99998000e+05]\n",
      " [5.18213194e+01 6.41279507e+01 4.89323295e+01 1.99999000e+05]]\n"
     ]
    }
   ],
   "source": [
    "# #perform rdp on the centers\n",
    "# rfl1centersRDP = performRDP(centers, 0.5)\n",
    "# print(rfl1centersRDP.shape)\n",
    "# print(rfl1centersRDP)\n"
   ]
  },
  {
   "cell_type": "code",
   "execution_count": 7,
   "metadata": {},
   "outputs": [],
   "source": [
    "# #save spm and rdp centers\n",
    "\n",
    "# with open(join(SAVE_PATH, \"rdpCenters0.5.txt\"), \"wb\") as f:\n",
    "#     np.save(f, rfl1centersRDP)\n",
    "# f.close()\n",
    "\n",
    "# with open(join(SAVE_PATH, \"spmCenters0.5.txt\"), \"wb\") as f:\n",
    "#     np.save(f, rfl1centersSPM)\n",
    "# f.close()\n",
    " "
   ]
  },
  {
   "cell_type": "code",
   "execution_count": null,
   "metadata": {},
   "outputs": [],
   "source": []
  }
 ],
 "metadata": {
  "kernelspec": {
   "display_name": "drug-polymers",
   "language": "python",
   "name": "python3"
  },
  "language_info": {
   "codemirror_mode": {
    "name": "ipython",
    "version": 3
   },
   "file_extension": ".py",
   "mimetype": "text/x-python",
   "name": "python",
   "nbconvert_exporter": "python",
   "pygments_lexer": "ipython3",
   "version": "3.9.7"
  },
  "orig_nbformat": 4,
  "vscode": {
   "interpreter": {
    "hash": "1ecbca60692fcbcdaa1d2bd5d45a516ce56a1dfd695b1b93ce3c934829eab87d"
   }
  }
 },
 "nbformat": 4,
 "nbformat_minor": 2
}
