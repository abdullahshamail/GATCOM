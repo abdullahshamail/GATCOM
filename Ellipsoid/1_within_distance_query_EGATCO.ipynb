{
 "cells": [
  {
   "cell_type": "code",
   "execution_count": 1,
   "metadata": {},
   "outputs": [],
   "source": [
    "import math\n",
    "\n",
    "import numpy as np\n",
    "from matplotlib import pyplot as plt\n",
    "from mpl_toolkits.mplot3d import Axes3D\n",
    "import pandas as pd\n",
    "from os.path import join\n",
    "import math\n",
    "import pickle\n",
    "import time\n",
    "from utilities import runQueryDTheta, loadData, donor_acceptor_dist\n",
    "%matplotlib widget\n",
    "\n",
    "dataPath = r\"C:\\Users\\ashamail\\Box\\Shared Materials_Abdullah_Hasan\\Abdullah Data\\allAtomsWithRings.csv\"\n",
    "savePath = r\"C:\\Users\\ashamail\\Desktop\\drug-polymers\\adbis extension\\data\\ellipsoids\"\n",
    "savepathDrive = r\"C:\\Users\\ashamail\\OneDrive - Iowa State University\\Molecular Simulation Data\\adbis extension data\"\n",
    "oxygenPath = r\"C:\\Users\\ashamail\\OneDrive - Iowa State University\\Molecular Simulation Data\\Text Data Files\\flavanone_R1_os_0-200K.csv\"\n",
    "oxygen_location = r\"C:\\Users\\ashamail\\Desktop\\data\\os_200_1.txt\"\n",
    "nitrogenPath = r\"C:\\Users\\ashamail\\Desktop\\data\\nitrogen200k.txt\"\n",
    "\n"
   ]
  },
  {
   "cell_type": "code",
   "execution_count": 2,
   "metadata": {},
   "outputs": [],
   "source": [
    "data = pd.read_csv(dataPath)\n",
    "# oxygen = pd.read_csv(oxygenPath, header=None)\n",
    "# oxygen = oxygen.rename(columns={0: \"x\", 1: \"y\", 2: \"z\"})\n",
    "oxygen = loadData(oxygen_location)\n",
    "nitrogen = loadData(nitrogenPath)\n",
    "df = pd.read_csv(join(savepathDrive, \"min_z_points.csv\"))\n",
    "\n",
    "# rfl1path = r\"C:\\Users\\ashamail\\OneDrive - Iowa State University\\Molecular Simulation Data\\Text Data Files\\RFL1 Trajectory\\rfl1_200k_0.txt\"\n",
    "PSP = 44\n",
    "# rfl1 = loadData(rfl1path)"
   ]
  },
  {
   "cell_type": "code",
   "execution_count": 5,
   "metadata": {},
   "outputs": [
    {
     "name": "stdout",
     "output_type": "stream",
     "text": [
      "[26005 32525 32537 32556 32557 32616 32617 32619 32620 32621 32622 32624\n",
      " 32626 32627 32628 32629 32630 32631 32632 32715 32739 32792 32793 32794] (24,)\n"
     ]
    }
   ],
   "source": [
    "a, b = donor_acceptor_dist(oxygen[:,0,:], nitrogen, np.arange(200000)) #find timesteps for all 200k\n",
    "print(a, a.shape)"
   ]
  },
  {
   "cell_type": "code",
   "execution_count": 8,
   "metadata": {},
   "outputs": [
    {
     "name": "stdout",
     "output_type": "stream",
     "text": [
      "1 -1\n",
      "2 -2\n",
      "3 -3\n",
      "4 -4\n",
      "5 -5\n",
      "6 -6\n"
     ]
    }
   ],
   "source": [
    "for x in np.arange(1, 7, 1):\n",
    "    print(x, x*-1)\n"
   ]
  },
  {
   "cell_type": "code",
   "execution_count": 13,
   "metadata": {},
   "outputs": [
    {
     "name": "stdout",
     "output_type": "stream",
     "text": [
      "(87329, 3)\n",
      "(80086, 3)\n",
      "7243\n",
      "(7243,)\n"
     ]
    }
   ],
   "source": [
    "d_deltas = np.arange(1, 2, 1)\n",
    "countPerDelta = {}\n",
    "df[\"difference\"] = df[\"min_z\"].apply(lambda x: (x - PSP))\n",
    "for delta in d_deltas:\n",
    "    s1 = time.time()\n",
    "    positive = delta\n",
    "    negative = delta*-1\n",
    "    more = df[df[\"difference\"] < positive]\n",
    "    less = df[df[\"difference\"] < negative]\n",
    "    print(more.shape)\n",
    "    print(less.shape)\n",
    "    print(more.shape[0] - less.shape[0])\n",
    "    print(np.setdiff1d(more[\"timestep\"], less[\"timestep\"]).shape)"
   ]
  },
  {
   "cell_type": "code",
   "execution_count": 20,
   "metadata": {},
   "outputs": [
    {
     "name": "stdout",
     "output_type": "stream",
     "text": [
      "1 timeframes [ 17030  17186  17187 ... 199707 199708 199927]\n",
      "1  pre-processing  0.014999628067016602\n",
      "1 [] (0, 1) 1.8680105209350586\n",
      "2 timeframes [ 11237  17027  17028 ... 199931 199989 199996]\n",
      "2  pre-processing  0.015004396438598633\n",
      "2 [] (0, 1) 3.564877510070801\n",
      "3 timeframes [  2088  11237  11239 ... 199996 199997 199999]\n",
      "3  pre-processing  0.016028881072998047\n"
     ]
    },
    {
     "ename": "KeyboardInterrupt",
     "evalue": "",
     "output_type": "error",
     "traceback": [
      "\u001b[1;31m---------------------------------------------------------------------------\u001b[0m",
      "\u001b[1;31mKeyboardInterrupt\u001b[0m                         Traceback (most recent call last)",
      "\u001b[1;32m~\\AppData\\Local\\Temp/ipykernel_18448/48015308.py\u001b[0m in \u001b[0;36m<module>\u001b[1;34m\u001b[0m\n\u001b[0;32m     17\u001b[0m     \u001b[0mprint\u001b[0m\u001b[1;33m(\u001b[0m\u001b[0mdelta\u001b[0m\u001b[1;33m,\u001b[0m \u001b[1;34m\" pre-processing \"\u001b[0m\u001b[1;33m,\u001b[0m \u001b[0mtime\u001b[0m\u001b[1;33m.\u001b[0m\u001b[0mtime\u001b[0m\u001b[1;33m(\u001b[0m\u001b[1;33m)\u001b[0m \u001b[1;33m-\u001b[0m \u001b[0ms1\u001b[0m\u001b[1;33m)\u001b[0m\u001b[1;33m\u001b[0m\u001b[1;33m\u001b[0m\u001b[0m\n\u001b[0;32m     18\u001b[0m     \u001b[0ms\u001b[0m \u001b[1;33m=\u001b[0m \u001b[0mtime\u001b[0m\u001b[1;33m.\u001b[0m\u001b[0mtime\u001b[0m\u001b[1;33m(\u001b[0m\u001b[1;33m)\u001b[0m\u001b[1;33m\u001b[0m\u001b[1;33m\u001b[0m\u001b[0m\n\u001b[1;32m---> 19\u001b[1;33m     \u001b[0ma\u001b[0m\u001b[1;33m,\u001b[0m \u001b[0mb\u001b[0m \u001b[1;33m=\u001b[0m \u001b[0mdonor_acceptor_dist\u001b[0m\u001b[1;33m(\u001b[0m\u001b[0moxygen\u001b[0m\u001b[1;33m[\u001b[0m\u001b[1;33m:\u001b[0m\u001b[1;33m,\u001b[0m\u001b[1;36m0\u001b[0m\u001b[1;33m,\u001b[0m\u001b[1;33m:\u001b[0m\u001b[1;33m]\u001b[0m\u001b[1;33m,\u001b[0m \u001b[0mnitrogen\u001b[0m\u001b[1;33m,\u001b[0m \u001b[0mtimesteps\u001b[0m\u001b[1;33m)\u001b[0m\u001b[1;33m\u001b[0m\u001b[1;33m\u001b[0m\u001b[0m\n\u001b[0m\u001b[0;32m     20\u001b[0m     \u001b[1;31m# timesteps = runQueryDTheta(np.array(points_less_than_delta[\"timestep\"]), oxygen, PSP) #for each d_delta instances, run the d_theta query\u001b[0m\u001b[1;33m\u001b[0m\u001b[1;33m\u001b[0m\u001b[0m\n\u001b[0;32m     21\u001b[0m     \u001b[1;31m# countPerDelta[delta] = a\u001b[0m\u001b[1;33m\u001b[0m\u001b[1;33m\u001b[0m\u001b[0m\n",
      "\u001b[1;32mc:\\Users\\ashamail\\Desktop\\drug-polymers\\adbis extension\\all notebooks\\utilities.py\u001b[0m in \u001b[0;36mdonor_acceptor_dist\u001b[1;34m(atom1_traj, atom2_traj, total_frame, hbond_threshold)\u001b[0m\n\u001b[0;32m    232\u001b[0m         \u001b[0matom2_traj_x\u001b[0m\u001b[1;33m,\u001b[0m \u001b[0matom2_traj_y\u001b[0m\u001b[1;33m,\u001b[0m \u001b[0matom2_traj_z\u001b[0m \u001b[1;33m=\u001b[0m \u001b[0msplit_xyz\u001b[0m \u001b[1;33m(\u001b[0m\u001b[0matom2_traj_xyz\u001b[0m\u001b[1;33m)\u001b[0m\u001b[1;33m\u001b[0m\u001b[1;33m\u001b[0m\u001b[0m\n\u001b[0;32m    233\u001b[0m \u001b[1;33m\u001b[0m\u001b[0m\n\u001b[1;32m--> 234\u001b[1;33m         \u001b[0mdonor_acceptor_dist\u001b[0m\u001b[1;33m,\u001b[0m\u001b[0m_\u001b[0m \u001b[1;33m,\u001b[0m \u001b[0m_\u001b[0m\u001b[1;33m,\u001b[0m \u001b[0m_\u001b[0m \u001b[1;33m=\u001b[0m \u001b[0mdistance_periodicity\u001b[0m \u001b[1;33m(\u001b[0m\u001b[0matom1_traj_xyz\u001b[0m\u001b[1;33m[\u001b[0m\u001b[1;36m0\u001b[0m\u001b[1;33m]\u001b[0m\u001b[1;33m,\u001b[0m \u001b[0matom1_traj_xyz\u001b[0m\u001b[1;33m[\u001b[0m\u001b[1;36m1\u001b[0m\u001b[1;33m]\u001b[0m\u001b[1;33m,\u001b[0m\u001b[0matom1_traj_xyz\u001b[0m\u001b[1;33m[\u001b[0m\u001b[1;36m2\u001b[0m\u001b[1;33m]\u001b[0m\u001b[1;33m,\u001b[0m \u001b[0matom2_traj_x\u001b[0m\u001b[1;33m,\u001b[0m \u001b[0matom2_traj_y\u001b[0m\u001b[1;33m,\u001b[0m \u001b[0matom2_traj_z\u001b[0m\u001b[1;33m)\u001b[0m\u001b[1;33m\u001b[0m\u001b[1;33m\u001b[0m\u001b[0m\n\u001b[0m\u001b[0;32m    235\u001b[0m \u001b[1;33m\u001b[0m\u001b[0m\n\u001b[0;32m    236\u001b[0m \u001b[1;33m\u001b[0m\u001b[0m\n",
      "\u001b[1;32mc:\\Users\\ashamail\\Desktop\\drug-polymers\\adbis extension\\all notebooks\\utilities.py\u001b[0m in \u001b[0;36mdistance_periodicity\u001b[1;34m(X1, Y1, Z1, X2, Y2, Z2)\u001b[0m\n\u001b[0;32m    291\u001b[0m     \u001b[0my_coord_diff\u001b[0m \u001b[1;33m=\u001b[0m \u001b[0mnp\u001b[0m\u001b[1;33m.\u001b[0m\u001b[0marray\u001b[0m\u001b[1;33m(\u001b[0m\u001b[1;33m[\u001b[0m\u001b[1;33m(\u001b[0m\u001b[1;36m72\u001b[0m\u001b[1;33m-\u001b[0m\u001b[0mabs\u001b[0m\u001b[1;33m(\u001b[0m\u001b[0mitem\u001b[0m\u001b[1;33m)\u001b[0m\u001b[1;33m)\u001b[0m \u001b[1;32mif\u001b[0m \u001b[0mabs\u001b[0m\u001b[1;33m(\u001b[0m\u001b[0mitem\u001b[0m\u001b[1;33m)\u001b[0m\u001b[1;33m>\u001b[0m\u001b[1;36m36\u001b[0m \u001b[1;32melse\u001b[0m \u001b[0mabs\u001b[0m\u001b[1;33m(\u001b[0m\u001b[0mitem\u001b[0m\u001b[1;33m)\u001b[0m \u001b[1;32mfor\u001b[0m \u001b[0mitem\u001b[0m \u001b[1;32min\u001b[0m \u001b[1;33m(\u001b[0m\u001b[0mY1\u001b[0m\u001b[1;33m-\u001b[0m\u001b[0mY2\u001b[0m\u001b[1;33m)\u001b[0m\u001b[1;33m]\u001b[0m\u001b[1;33m)\u001b[0m\u001b[1;33m\u001b[0m\u001b[1;33m\u001b[0m\u001b[0m\n\u001b[0;32m    292\u001b[0m \u001b[1;33m\u001b[0m\u001b[0m\n\u001b[1;32m--> 293\u001b[1;33m     \u001b[0mz_coord_diff\u001b[0m \u001b[1;33m=\u001b[0m \u001b[0mnp\u001b[0m\u001b[1;33m.\u001b[0m\u001b[0marray\u001b[0m\u001b[1;33m(\u001b[0m\u001b[1;33m(\u001b[0m\u001b[0mZ1\u001b[0m \u001b[1;33m-\u001b[0m \u001b[0mZ2\u001b[0m\u001b[1;33m)\u001b[0m\u001b[1;33m)\u001b[0m\u001b[1;33m\u001b[0m\u001b[1;33m\u001b[0m\u001b[0m\n\u001b[0m\u001b[0;32m    294\u001b[0m \u001b[1;33m\u001b[0m\u001b[0m\n\u001b[0;32m    295\u001b[0m     \u001b[0meuclidean_distance\u001b[0m \u001b[1;33m=\u001b[0m \u001b[0mnp\u001b[0m\u001b[1;33m.\u001b[0m\u001b[0msqrt\u001b[0m\u001b[1;33m(\u001b[0m\u001b[0mnp\u001b[0m\u001b[1;33m.\u001b[0m\u001b[0msquare\u001b[0m\u001b[1;33m(\u001b[0m\u001b[0mx_coord_diff\u001b[0m\u001b[1;33m)\u001b[0m \u001b[1;33m+\u001b[0m \u001b[0mnp\u001b[0m\u001b[1;33m.\u001b[0m\u001b[0msquare\u001b[0m\u001b[1;33m(\u001b[0m\u001b[0my_coord_diff\u001b[0m\u001b[1;33m)\u001b[0m \u001b[1;33m+\u001b[0m \u001b[0mnp\u001b[0m\u001b[1;33m.\u001b[0m\u001b[0msquare\u001b[0m\u001b[1;33m(\u001b[0m\u001b[0mz_coord_diff\u001b[0m\u001b[1;33m)\u001b[0m\u001b[1;33m)\u001b[0m\u001b[1;33m\u001b[0m\u001b[1;33m\u001b[0m\u001b[0m\n",
      "\u001b[1;31mKeyboardInterrupt\u001b[0m: "
     ]
    }
   ],
   "source": [
    "# for all timesteps\n",
    "# can also plot an instance using the line below\n",
    "# plot_ell_and_plane(ell, points)\n",
    "d_deltas = np.arange(1, 7, 1)\n",
    "countPerDelta = {}\n",
    "df[\"difference\"] = df[\"min_z\"].apply(lambda x: (x - PSP))\n",
    "for delta in d_deltas:\n",
    "    s1 = time.time()\n",
    "    positive = delta\n",
    "    negative = delta*-1\n",
    "    more = df[df[\"difference\"] < positive]\n",
    "    less = df[df[\"difference\"] < negative]\n",
    "    # points_less_than_delta = df[df[\"difference\"] < delta]\n",
    "    timesteps = np.setdiff1d(more[\"timestep\"], less[\"timestep\"])\n",
    "    print(delta, \"timeframes\", timesteps) #calculate ellipsoid and then calculate distance between min point and PSP using d_delte (1,2,3,4)\n",
    "    # print(points_less_than_delta)\n",
    "    print(delta, \" pre-processing \", time.time() - s1)\n",
    "    s = time.time()\n",
    "    a, b = donor_acceptor_dist(oxygen[:,0,:], nitrogen, timesteps)\n",
    "    # timesteps = runQueryDTheta(np.array(points_less_than_delta[\"timestep\"]), oxygen, PSP) #for each d_delta instances, run the d_theta query\n",
    "    # countPerDelta[delta] = a\n",
    "    print(delta, a, a.shape, time.time() - s)\n",
    "\n",
    "# for key, val in countPerDelta.items():\n",
    "#     print(key, val.shape[0])"
   ]
  },
  {
   "cell_type": "code",
   "execution_count": 16,
   "metadata": {},
   "outputs": [
    {
     "name": "stdout",
     "output_type": "stream",
     "text": [
      "(58717,)\n",
      "(58717, 3)\n",
      "-6  pre-processing  0.005997896194458008\n"
     ]
    },
    {
     "ename": "KeyboardInterrupt",
     "evalue": "",
     "output_type": "error",
     "traceback": [
      "\u001b[1;31m---------------------------------------------------------------------------\u001b[0m",
      "\u001b[1;31mKeyboardInterrupt\u001b[0m                         Traceback (most recent call last)",
      "\u001b[1;32m~\\AppData\\Local\\Temp/ipykernel_18448/1242403367.py\u001b[0m in \u001b[0;36m<module>\u001b[1;34m\u001b[0m\n\u001b[0;32m     14\u001b[0m     \u001b[0mprint\u001b[0m\u001b[1;33m(\u001b[0m\u001b[0mdelta\u001b[0m\u001b[1;33m,\u001b[0m \u001b[1;34m\" pre-processing \"\u001b[0m\u001b[1;33m,\u001b[0m \u001b[0mtime\u001b[0m\u001b[1;33m.\u001b[0m\u001b[0mtime\u001b[0m\u001b[1;33m(\u001b[0m\u001b[1;33m)\u001b[0m \u001b[1;33m-\u001b[0m \u001b[0ms1\u001b[0m\u001b[1;33m)\u001b[0m\u001b[1;33m\u001b[0m\u001b[1;33m\u001b[0m\u001b[0m\n\u001b[0;32m     15\u001b[0m     \u001b[0ms\u001b[0m \u001b[1;33m=\u001b[0m \u001b[0mtime\u001b[0m\u001b[1;33m.\u001b[0m\u001b[0mtime\u001b[0m\u001b[1;33m(\u001b[0m\u001b[1;33m)\u001b[0m\u001b[1;33m\u001b[0m\u001b[1;33m\u001b[0m\u001b[0m\n\u001b[1;32m---> 16\u001b[1;33m     \u001b[0ma\u001b[0m\u001b[1;33m,\u001b[0m \u001b[0mb\u001b[0m \u001b[1;33m=\u001b[0m \u001b[0mdonor_acceptor_dist\u001b[0m\u001b[1;33m(\u001b[0m\u001b[0moxygen\u001b[0m\u001b[1;33m[\u001b[0m\u001b[1;33m:\u001b[0m\u001b[1;33m,\u001b[0m\u001b[1;36m0\u001b[0m\u001b[1;33m,\u001b[0m\u001b[1;33m:\u001b[0m\u001b[1;33m]\u001b[0m\u001b[1;33m,\u001b[0m \u001b[0mnitrogen\u001b[0m\u001b[1;33m,\u001b[0m \u001b[0mtimesteps\u001b[0m\u001b[1;33m)\u001b[0m\u001b[1;33m\u001b[0m\u001b[1;33m\u001b[0m\u001b[0m\n\u001b[0m\u001b[0;32m     17\u001b[0m     \u001b[1;31m# timesteps = runQueryDTheta(np.array(points_less_than_delta[\"timestep\"]), oxygen, PSP) #for each d_delta instances, run the d_theta query\u001b[0m\u001b[1;33m\u001b[0m\u001b[1;33m\u001b[0m\u001b[0m\n\u001b[0;32m     18\u001b[0m     \u001b[0mcountPerDelta\u001b[0m\u001b[1;33m[\u001b[0m\u001b[0mdelta\u001b[0m\u001b[1;33m]\u001b[0m \u001b[1;33m=\u001b[0m \u001b[0ma\u001b[0m\u001b[1;33m\u001b[0m\u001b[1;33m\u001b[0m\u001b[0m\n",
      "\u001b[1;32mc:\\Users\\ashamail\\Desktop\\drug-polymers\\adbis extension\\all notebooks\\utilities.py\u001b[0m in \u001b[0;36mdonor_acceptor_dist\u001b[1;34m(atom1_traj, atom2_traj, total_frame, hbond_threshold)\u001b[0m\n\u001b[0;32m    232\u001b[0m         \u001b[0matom2_traj_x\u001b[0m\u001b[1;33m,\u001b[0m \u001b[0matom2_traj_y\u001b[0m\u001b[1;33m,\u001b[0m \u001b[0matom2_traj_z\u001b[0m \u001b[1;33m=\u001b[0m \u001b[0msplit_xyz\u001b[0m \u001b[1;33m(\u001b[0m\u001b[0matom2_traj_xyz\u001b[0m\u001b[1;33m)\u001b[0m\u001b[1;33m\u001b[0m\u001b[1;33m\u001b[0m\u001b[0m\n\u001b[0;32m    233\u001b[0m \u001b[1;33m\u001b[0m\u001b[0m\n\u001b[1;32m--> 234\u001b[1;33m         \u001b[0mdonor_acceptor_dist\u001b[0m\u001b[1;33m,\u001b[0m\u001b[0m_\u001b[0m \u001b[1;33m,\u001b[0m \u001b[0m_\u001b[0m\u001b[1;33m,\u001b[0m \u001b[0m_\u001b[0m \u001b[1;33m=\u001b[0m \u001b[0mdistance_periodicity\u001b[0m \u001b[1;33m(\u001b[0m\u001b[0matom1_traj_xyz\u001b[0m\u001b[1;33m[\u001b[0m\u001b[1;36m0\u001b[0m\u001b[1;33m]\u001b[0m\u001b[1;33m,\u001b[0m \u001b[0matom1_traj_xyz\u001b[0m\u001b[1;33m[\u001b[0m\u001b[1;36m1\u001b[0m\u001b[1;33m]\u001b[0m\u001b[1;33m,\u001b[0m\u001b[0matom1_traj_xyz\u001b[0m\u001b[1;33m[\u001b[0m\u001b[1;36m2\u001b[0m\u001b[1;33m]\u001b[0m\u001b[1;33m,\u001b[0m \u001b[0matom2_traj_x\u001b[0m\u001b[1;33m,\u001b[0m \u001b[0matom2_traj_y\u001b[0m\u001b[1;33m,\u001b[0m \u001b[0matom2_traj_z\u001b[0m\u001b[1;33m)\u001b[0m\u001b[1;33m\u001b[0m\u001b[1;33m\u001b[0m\u001b[0m\n\u001b[0m\u001b[0;32m    235\u001b[0m \u001b[1;33m\u001b[0m\u001b[0m\n\u001b[0;32m    236\u001b[0m \u001b[1;33m\u001b[0m\u001b[0m\n",
      "\u001b[1;32mc:\\Users\\ashamail\\Desktop\\drug-polymers\\adbis extension\\all notebooks\\utilities.py\u001b[0m in \u001b[0;36mdistance_periodicity\u001b[1;34m(X1, Y1, Z1, X2, Y2, Z2)\u001b[0m\n\u001b[0;32m    291\u001b[0m     \u001b[0my_coord_diff\u001b[0m \u001b[1;33m=\u001b[0m \u001b[0mnp\u001b[0m\u001b[1;33m.\u001b[0m\u001b[0marray\u001b[0m\u001b[1;33m(\u001b[0m\u001b[1;33m[\u001b[0m\u001b[1;33m(\u001b[0m\u001b[1;36m72\u001b[0m\u001b[1;33m-\u001b[0m\u001b[0mabs\u001b[0m\u001b[1;33m(\u001b[0m\u001b[0mitem\u001b[0m\u001b[1;33m)\u001b[0m\u001b[1;33m)\u001b[0m \u001b[1;32mif\u001b[0m \u001b[0mabs\u001b[0m\u001b[1;33m(\u001b[0m\u001b[0mitem\u001b[0m\u001b[1;33m)\u001b[0m\u001b[1;33m>\u001b[0m\u001b[1;36m36\u001b[0m \u001b[1;32melse\u001b[0m \u001b[0mabs\u001b[0m\u001b[1;33m(\u001b[0m\u001b[0mitem\u001b[0m\u001b[1;33m)\u001b[0m \u001b[1;32mfor\u001b[0m \u001b[0mitem\u001b[0m \u001b[1;32min\u001b[0m \u001b[1;33m(\u001b[0m\u001b[0mY1\u001b[0m\u001b[1;33m-\u001b[0m\u001b[0mY2\u001b[0m\u001b[1;33m)\u001b[0m\u001b[1;33m]\u001b[0m\u001b[1;33m)\u001b[0m\u001b[1;33m\u001b[0m\u001b[1;33m\u001b[0m\u001b[0m\n\u001b[0;32m    292\u001b[0m \u001b[1;33m\u001b[0m\u001b[0m\n\u001b[1;32m--> 293\u001b[1;33m     \u001b[0mz_coord_diff\u001b[0m \u001b[1;33m=\u001b[0m \u001b[0mnp\u001b[0m\u001b[1;33m.\u001b[0m\u001b[0marray\u001b[0m\u001b[1;33m(\u001b[0m\u001b[1;33m(\u001b[0m\u001b[0mZ1\u001b[0m \u001b[1;33m-\u001b[0m \u001b[0mZ2\u001b[0m\u001b[1;33m)\u001b[0m\u001b[1;33m)\u001b[0m\u001b[1;33m\u001b[0m\u001b[1;33m\u001b[0m\u001b[0m\n\u001b[0m\u001b[0;32m    294\u001b[0m \u001b[1;33m\u001b[0m\u001b[0m\n\u001b[0;32m    295\u001b[0m     \u001b[0meuclidean_distance\u001b[0m \u001b[1;33m=\u001b[0m \u001b[0mnp\u001b[0m\u001b[1;33m.\u001b[0m\u001b[0msqrt\u001b[0m\u001b[1;33m(\u001b[0m\u001b[0mnp\u001b[0m\u001b[1;33m.\u001b[0m\u001b[0msquare\u001b[0m\u001b[1;33m(\u001b[0m\u001b[0mx_coord_diff\u001b[0m\u001b[1;33m)\u001b[0m \u001b[1;33m+\u001b[0m \u001b[0mnp\u001b[0m\u001b[1;33m.\u001b[0m\u001b[0msquare\u001b[0m\u001b[1;33m(\u001b[0m\u001b[0my_coord_diff\u001b[0m\u001b[1;33m)\u001b[0m \u001b[1;33m+\u001b[0m \u001b[0mnp\u001b[0m\u001b[1;33m.\u001b[0m\u001b[0msquare\u001b[0m\u001b[1;33m(\u001b[0m\u001b[0mz_coord_diff\u001b[0m\u001b[1;33m)\u001b[0m\u001b[1;33m)\u001b[0m\u001b[1;33m\u001b[0m\u001b[1;33m\u001b[0m\u001b[0m\n",
      "\u001b[1;31mKeyboardInterrupt\u001b[0m: "
     ]
    }
   ],
   "source": [
    "# for all timesteps\n",
    "# can also plot an instance using the line below\n",
    "# plot_ell_and_plane(ell, points)\n",
    "d_deltas = np.arange(-6, 7, 1)\n",
    "countPerDelta = {}\n",
    "df[\"difference\"] = df[\"min_z\"].apply(lambda x: (x - PSP))\n",
    "for delta in d_deltas:\n",
    "    s1 = time.time()\n",
    "    points_less_than_delta = df[df[\"difference\"] < delta]\n",
    "    timesteps = np.array(points_less_than_delta[\"timestep\"])\n",
    "    print(timesteps.shape)\n",
    "    print(points_less_than_delta.shape) #calculate ellipsoid and then calculate distance between min point and PSP using d_delte (1,2,3,4)\n",
    "    # print(points_less_than_delta)\n",
    "    print(delta, \" pre-processing \", time.time() - s1)\n",
    "    s = time.time()\n",
    "    a, b = donor_acceptor_dist(oxygen[:,0,:], nitrogen, timesteps)\n",
    "    # timesteps = runQueryDTheta(np.array(points_less_than_delta[\"timestep\"]), oxygen, PSP) #for each d_delta instances, run the d_theta query\n",
    "    countPerDelta[delta] = a\n",
    "    print(delta, a.shape, time.time() - s)\n",
    "\n",
    "# for key, val in countPerDelta.items():\n",
    "#     print(key, val.shape[0])"
   ]
  },
  {
   "cell_type": "code",
   "execution_count": 6,
   "metadata": {},
   "outputs": [],
   "source": [
    "saveLocation = r\"C:\\Users\\ashamail\\OneDrive - Iowa State University\\Molecular Simulation Data\\adbis extension data\\e_gatco data\""
   ]
  },
  {
   "cell_type": "code",
   "execution_count": 7,
   "metadata": {},
   "outputs": [
    {
     "name": "stdout",
     "output_type": "stream",
     "text": [
      "done -7\n",
      "done -6\n",
      "done -5\n"
     ]
    }
   ],
   "source": [
    "# generate data to save to measure space required\n",
    "# d_deltas = [-4,-3,-2,-1,0,1,2,3,4]\n",
    "# countPerDelta = {}\n",
    "# oxygen[:,0,:].shape\n",
    "toappend = np.arange(200000)\n",
    "toappend = toappend.reshape(toappend.shape[0], 1)\n",
    "rflOxygen = np.append(oxygen[:,0,:], toappend, axis = 1)\n",
    "df[\"difference\"] = df[\"min_z\"].apply(lambda x: (x - PSP))\n",
    "for delta in d_deltas:\n",
    "    points_less_than_delta = df[df[\"difference\"] < delta] #calculate ellipsoid and then calculate distance between min point and PSP using d_delte (1,2,3,4)\n",
    "    # print(points_less_than_delta)\n",
    "    timesteps = np.array(points_less_than_delta[\"timestep\"])\n",
    "    \n",
    "    temp = rflOxygen[timesteps]\n",
    "    np.savetxt(join(saveLocation, str(delta), \"oxygen.csv\"), temp, delimiter=\",\")\n",
    "    tempnitrogen = nitrogen[timesteps]\n",
    "    for i in range(216):\n",
    "    #     nitrogen[:,i,:].shape\n",
    "        nitrogeni = np.append(tempnitrogen[:,i,:], timesteps.reshape(timesteps.shape[0], 1), axis = 1)\n",
    "        np.savetxt(join(saveLocation, str(delta), str(i)+\"-nitrogen.csv\"), nitrogeni, delimiter=\",\")\n",
    "    \n",
    "    print(\"done\", delta)\n",
    "    # s = time.time()\n",
    "    # a, b = donor_acceptor_dist(oxygen[:,0,:], nitrogen, timesteps)\n",
    "    # timesteps = runQueryDTheta(np.array(points_less_than_delta[\"timestep\"]), oxygen, PSP) #for each d_delta instances, run the d_theta query\n",
    "    # countPerDelta[delta] = a\n",
    "    # print(delta, a.shape, time.time() - s)"
   ]
  },
  {
   "cell_type": "code",
   "execution_count": 24,
   "metadata": {},
   "outputs": [
    {
     "data": {
      "text/plain": [
       "array([  2086,   2087,   2088, ..., 199997, 199998, 199999], dtype=int64)"
      ]
     },
     "execution_count": 24,
     "metadata": {},
     "output_type": "execute_result"
    }
   ],
   "source": [
    "timesteps"
   ]
  },
  {
   "cell_type": "code",
   "execution_count": 27,
   "metadata": {},
   "outputs": [
    {
     "data": {
      "text/plain": [
       "array([[11.43114948, -2.25737381, 29.72561264],\n",
       "       [11.61144924, -2.10746789, 29.7369957 ],\n",
       "       [11.68274212, -2.47028089, 29.60742188],\n",
       "       ...,\n",
       "       [11.29133797, -2.08883071, 29.70737267],\n",
       "       [11.17711544, -2.474231  , 29.7449398 ],\n",
       "       [11.18099213, -1.90097368, 29.84999466]])"
      ]
     },
     "execution_count": 27,
     "metadata": {},
     "output_type": "execute_result"
    }
   ],
   "source": []
  },
  {
   "cell_type": "code",
   "execution_count": 26,
   "metadata": {},
   "outputs": [
    {
     "data": {
      "text/plain": [
       "array([[11.43114948, -2.25737381, 29.72561264],\n",
       "       [11.61144924, -2.10746789, 29.7369957 ],\n",
       "       [11.68274212, -2.47028089, 29.60742188]])"
      ]
     },
     "execution_count": 26,
     "metadata": {},
     "output_type": "execute_result"
    }
   ],
   "source": [
    "nitrogen[2086:2089][:,0]"
   ]
  },
  {
   "cell_type": "code",
   "execution_count": 20,
   "metadata": {},
   "outputs": [
    {
     "name": "stdout",
     "output_type": "stream",
     "text": [
      "(67654,)\n",
      "(72008,)\n",
      "(76202,)\n",
      "(80086,)\n",
      "(83740,)\n",
      "(87329,)\n",
      "(90942,)\n",
      "(94642,)\n",
      "(98099,)\n"
     ]
    }
   ],
   "source": [
    "df[\"difference\"] = df[\"min_z\"].apply(lambda x: (x - PSP))\n",
    "for delta in d_deltas:\n",
    "    points_less_than_delta = df[df[\"difference\"] < delta] #calculate ellipsoid and then calculate distance between min point and PSP using d_delte (1,2,3,4)\n",
    "    # print(points_less_than_delta)\n",
    "    timesteps = np.array(points_less_than_delta[\"timestep\"])\n",
    "    print(timesteps.shape)"
   ]
  },
  {
   "cell_type": "code",
   "execution_count": 16,
   "metadata": {},
   "outputs": [
    {
     "name": "stdout",
     "output_type": "stream",
     "text": [
      "4 [26005 32525 32537 32556 32557 32616 32617 32619 32620 32621 32622 32624\n",
      " 32626 32627 32628 32629 32630 32631 32632 32715 32739 32792 32793 32794] (24,)\n"
     ]
    }
   ],
   "source": [
    "for key, val in countPerDelta.items():\n",
    "    print(key, val, val.shape)"
   ]
  },
  {
   "cell_type": "code",
   "execution_count": null,
   "metadata": {},
   "outputs": [],
   "source": []
  }
 ],
 "metadata": {
  "kernelspec": {
   "display_name": "drug-polymers",
   "language": "python",
   "name": "python3"
  },
  "language_info": {
   "codemirror_mode": {
    "name": "ipython",
    "version": 3
   },
   "file_extension": ".py",
   "mimetype": "text/x-python",
   "name": "python",
   "nbconvert_exporter": "python",
   "pygments_lexer": "ipython3",
   "version": "3.9.7"
  },
  "orig_nbformat": 4,
  "vscode": {
   "interpreter": {
    "hash": "1ecbca60692fcbcdaa1d2bd5d45a516ce56a1dfd695b1b93ce3c934829eab87d"
   }
  }
 },
 "nbformat": 4,
 "nbformat_minor": 2
}
