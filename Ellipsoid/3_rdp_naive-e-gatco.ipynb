{
 "cells": [
  {
   "cell_type": "code",
   "execution_count": 1,
   "metadata": {},
   "outputs": [],
   "source": [
    "import math\n",
    "\n",
    "import numpy as np\n",
    "from rdp import rdp\n",
    "import time\n",
    "from matplotlib import pyplot as plt\n",
    "import pandas as pd\n",
    "from os.path import join\n",
    "import os\n",
    "import math\n",
    "from utilities import runQueryDTheta, loadData, donor_acceptor_dist\n",
    "# %matplotlib widget\n",
    "\n",
    "dataPath = r\"C:\\Users\\ashamail\\Box\\Shared Materials_Abdullah_Hasan\\Abdullah Data\\allAtomsWithRings.csv\"\n",
    "savePath = r\"C:\\Users\\ashamail\\Desktop\\drug-polymers\\adbis extension\\data\\ellipsoids\"\n",
    "savepathDrive = r\"C:\\Users\\ashamail\\OneDrive - Iowa State University\\Molecular Simulation Data\\adbis extension data\"\n",
    "oxygenPath = r\"C:\\Users\\ashamail\\OneDrive - Iowa State University\\Molecular Simulation Data\\Text Data Files\\flavanone_R1_os_0-200K.csv\"\n",
    "oxygen_location = r\"C:\\Users\\ashamail\\Desktop\\data\\os_200_1.txt\"\n",
    "nitrogenPath = r\"C:\\Users\\ashamail\\Desktop\\data\\nitrogen200k.txt\"\n",
    "\n"
   ]
  },
  {
   "cell_type": "code",
   "execution_count": 2,
   "metadata": {},
   "outputs": [],
   "source": [
    "data = pd.read_csv(dataPath)\n",
    "# oxygen = pd.read_csv(oxygenPath, header=None)\n",
    "# oxygen = oxygen.rename(columns={0: \"x\", 1: \"y\", 2: \"z\"})\n",
    "oxygen = loadData(oxygen_location)\n",
    "nitrogen = loadData(nitrogenPath)\n",
    "min_z_points = pd.read_csv(join(savepathDrive, \"min_z_points.csv\"))\n",
    "\n",
    "PSP = 44"
   ]
  },
  {
   "cell_type": "code",
   "execution_count": 5,
   "metadata": {},
   "outputs": [],
   "source": [
    "def performRDP(data, epsilon):\n",
    "    rdpData = rdp(data, epsilon=epsilon, return_mask=True)\n",
    "    myData = []\n",
    "    for i, truth in enumerate(rdpData):\n",
    "        if truth:\n",
    "            temp = list(np.append(data[i,:], i))\n",
    "            myData.append(temp)\n",
    "    myData = np.array(myData)\n",
    "    return myData"
   ]
  },
  {
   "cell_type": "code",
   "execution_count": 6,
   "metadata": {},
   "outputs": [
    {
     "name": "stdout",
     "output_type": "stream",
     "text": [
      "-6 0.5 pre-processing 62.618608236312866\n",
      "-6 0.5 query processing (233,) 6.218013048171997\n",
      "-5 0.5 pre-processing 78.33810758590698\n",
      "-5 0.5 query processing (278,) 6.616071939468384\n",
      "-4 0.5 pre-processing 78.22073197364807\n",
      "-4 0.5 query processing (268,) 7.416030645370483\n",
      "-3 0.5 pre-processing 84.81156730651855\n",
      "-3 0.5 query processing (255,) 7.862591505050659\n",
      "-2 0.5 pre-processing 86.62796592712402\n",
      "-2 0.5 query processing (262,) 7.397063970565796\n",
      "-1 0.5 pre-processing 86.39276146888733\n",
      "-1 0.5 query processing (274,) 7.847095489501953\n",
      "0 0.5 pre-processing 99.1748423576355\n",
      "0 0.5 query processing (279,) 8.496103048324585\n",
      "1 0.5 pre-processing 105.99398422241211\n",
      "1 0.5 query processing (265,) 9.104076862335205\n",
      "2 0.5 pre-processing 111.93320298194885\n",
      "2 0.5 query processing (257,) 8.749048471450806\n",
      "3 0.5 pre-processing 114.43373012542725\n",
      "3 0.5 query processing (264,) 9.632084846496582\n",
      "4 0.5 pre-processing 109.33412599563599\n",
      "4 0.5 query processing (288,) 9.262107849121094\n",
      "5 0.5 pre-processing 112.4563159942627\n",
      "5 0.5 query processing (261,) 9.609109163284302\n",
      "6 0.5 pre-processing 115.57799768447876\n",
      "6 0.5 query processing (276,) 9.971081733703613\n",
      "-6 0.75 pre-processing 57.68749380111694\n",
      "-6 0.75 query processing (389,) 3.582036256790161\n",
      "-5 0.75 pre-processing 62.82319664955139\n",
      "-5 0.75 query processing (491,) 3.736124038696289\n",
      "-4 0.75 pre-processing 66.0295467376709\n",
      "-4 0.75 query processing (407,) 4.041038751602173\n",
      "-3 0.75 pre-processing 70.9545590877533\n",
      "-3 0.75 query processing (490,) 4.39403772354126\n",
      "-2 0.75 pre-processing 76.5087218284607\n",
      "-2 0.75 query processing (479,) 4.639533758163452\n",
      "-1 0.75 pre-processing 79.98667120933533\n",
      "-1 0.75 query processing (510,) 4.99807596206665\n",
      "0 0.75 pre-processing 90.09277272224426\n",
      "0 0.75 query processing (490,) 5.166040658950806\n",
      "1 0.75 pre-processing 95.53481769561768\n",
      "1 0.75 query processing (501,) 5.410043001174927\n",
      "2 0.75 pre-processing 99.33282947540283\n",
      "2 0.75 query processing (506,) 5.722048282623291\n",
      "3 0.75 pre-processing 106.80390310287476\n",
      "3 0.75 query processing (489,) 6.564054489135742\n",
      "4 0.75 pre-processing 106.30887532234192\n",
      "4 0.75 query processing (485,) 6.264020919799805\n",
      "5 0.75 pre-processing 115.86346077919006\n",
      "5 0.75 query processing (500,) 6.5900609493255615\n",
      "6 0.75 pre-processing 132.11732530593872\n",
      "6 0.75 query processing (482,) 7.390057802200317\n",
      "-6 1 pre-processing 63.324564695358276\n",
      "-6 1 query processing (612,) 2.502020835876465\n",
      "-5 1 pre-processing 67.96454954147339\n",
      "-5 1 query processing (712,) 2.7679948806762695\n",
      "-4 1 pre-processing 71.37967276573181\n",
      "-4 1 query processing (695,) 2.7580032348632812\n",
      "-3 1 pre-processing 80.48171472549438\n",
      "-3 1 query processing (752,) 3.012054681777954\n",
      "-2 1 pre-processing 81.78866362571716\n",
      "-2 1 query processing (781,) 3.419057846069336\n",
      "-1 1 pre-processing 86.9427330493927\n",
      "-1 1 query processing (827,) 3.4489970207214355\n",
      "0 1 pre-processing 94.56677603721619\n",
      "0 1 query processing (804,) 4.023027420043945\n",
      "1 1 pre-processing 103.11785626411438\n",
      "1 1 query processing (844,) 3.9250309467315674\n",
      "2 1 pre-processing 109.61697006225586\n",
      "2 1 query processing (828,) 4.149062395095825\n",
      "3 1 pre-processing 108.85611248016357\n",
      "3 1 query processing (787,) 4.4720354080200195\n",
      "4 1 pre-processing 110.06988072395325\n",
      "4 1 query processing (786,) 4.492042303085327\n",
      "5 1 pre-processing 116.57208371162415\n",
      "5 1 query processing (804,) 4.767041206359863\n",
      "6 1 pre-processing 119.1329128742218\n",
      "6 1 query processing (756,) 4.644063234329224\n"
     ]
    }
   ],
   "source": [
    "# for all timesteps\n",
    "# can also plot an instance using the line below\n",
    "# plot_ell_and_plane(ell, points)\n",
    "\n",
    "saveLocation = r\"C:\\Users\\ashamail\\OneDrive - Iowa State University\\Molecular Simulation Data\\adbis extension data\\e_gatco + spmrdp\"\n",
    "d_deltas = np.arange(-6, 7, 1)\n",
    "epsilons = [0.5, 0.75, 1]\n",
    "countPerDelta = {}\n",
    "\n",
    "toappend = np.arange(200000)\n",
    "toappend = toappend.reshape(toappend.shape[0], 1)\n",
    "rflOxygen = np.append(oxygen[:,0,:], toappend, axis = 1)\n",
    "\n",
    "min_z_points[\"difference\"] = min_z_points[\"min_z\"].apply(lambda x: (x - PSP))\n",
    "for epsilon in epsilons:\n",
    "    for delta in d_deltas:\n",
    "        s1 = time.time()\n",
    "        countPerDelta[delta] = {}\n",
    "        points_less_than_delta = min_z_points[min_z_points[\"difference\"] < delta] #calculate ellipsoid and then calculate distance between min point and PSP using d_delte (1,2,3,4)\n",
    "        # print(points_less_than_delta)\n",
    "\n",
    "        # display(min_z_points[[\"min_z\", \"timestep\"]].values)\n",
    "        \n",
    "        \n",
    "        s1 = time.time()\n",
    "        rdp_out = performRDP(points_less_than_delta[[\"min_z\", \"timestep\"]].values, epsilon)\n",
    "        timesteps = rdp_out[:, 2].astype(int)\n",
    "        \n",
    "        print(delta, epsilon, \"pre-processing\", time.time() - s1)\n",
    "\n",
    "        # print(delta, epsilon, \"done with pre processing, starting file saving\")\n",
    "\n",
    "\n",
    "        # temp = rflOxygen[timesteps]\n",
    "        # np.savetxt(join(saveLocation, \"rdp\", str(epsilon), str(delta), \"oxygen.csv\"), temp, delimiter=\",\")\n",
    "        # tempnitrogen = nitrogen[timesteps]\n",
    "        # for i in range(216):\n",
    "        # #     nitrogen[:,i,:].shape\n",
    "        #     nitrogeni = np.append(tempnitrogen[:,i,:], timesteps.reshape(timesteps.shape[0], 1), axis = 1)\n",
    "        #     np.savetxt(join(saveLocation, \"rdp\", str(epsilon), str(delta), str(i)+\"-nitrogen.csv\"), nitrogeni, delimiter=\",\")\n",
    "        # print(delta, epsilon, \"done with saving files, starting query\")\n",
    "        s = time.time()\n",
    "        a, b = donor_acceptor_dist(oxygen[:,0,:], nitrogen, timesteps, hbond_threshold = 3.5 + 2*epsilon)\n",
    "    # timesteps = runQueryDTheta(np.array(points_less_than_delta[\"timestep\"]), oxygen, PSP) #for each d_delta instances, run the d_theta query\n",
    "        print(delta, epsilon, \"query processing\", a.shape, time.time() - s)\n",
    "        countPerDelta[delta][epsilon] = a\n",
    "\n",
    "# for key, val in countPerDelta.items():\n",
    "#     print(key, val.shape[0])"
   ]
  },
  {
   "cell_type": "code",
   "execution_count": 4,
   "metadata": {},
   "outputs": [
    {
     "data": {
      "text/plain": [
       "(25879, 2)"
      ]
     },
     "execution_count": 4,
     "metadata": {},
     "output_type": "execute_result"
    }
   ],
   "source": [
    "rdp_out.shape"
   ]
  },
  {
   "cell_type": "code",
   "execution_count": 44,
   "metadata": {},
   "outputs": [],
   "source": [
    "saveDir = r\"C:\\Users\\ashamail\\Desktop\\data\\adbis extension\\spkm_rdp_EGCTR_+-4\"\n",
    "\n",
    "for delta, val in countPerDelta.items():\n",
    "    for epsilon, arr in val.items():\n",
    "        path = join(saveDir, str(delta))\n",
    "        if not os.path.exists(path):\n",
    "            os.makedirs(path)\n",
    "        np.save(join(path, str(epsilon)+\".npy\"), arr)\n",
    "        "
   ]
  },
  {
   "cell_type": "code",
   "execution_count": 19,
   "metadata": {},
   "outputs": [],
   "source": [
    "# plt.clf()\n",
    "# plt_1 = plt.figure(figsize=(15, 5))\n",
    "# plt.plot(min_z_points[\"timestep\"][:100], min_z_points[\"min_z\"][:100])\n",
    "# plt.ylabel(\"min z coordinates\")\n",
    "# plt.xlabel(\"time\")\n",
    "# plt.show()"
   ]
  },
  {
   "cell_type": "code",
   "execution_count": 20,
   "metadata": {},
   "outputs": [],
   "source": [
    "# # plt.clf()\n",
    "# plt_2 = plt.figure(figsize=(15, 5))\n",
    "# plt.plot(rdp_out[:, 1][:100], rdp_out[:, 0][:100])\n",
    "# plt.ylabel(\"min z coordinates compressed\")\n",
    "# plt.xlabel(\"time\")\n",
    "# plt.show()"
   ]
  },
  {
   "cell_type": "code",
   "execution_count": 29,
   "metadata": {},
   "outputs": [
    {
     "data": {
      "text/plain": [
       "array([     0,      3,      5, ..., 199996, 199998, 199999])"
      ]
     },
     "execution_count": 29,
     "metadata": {},
     "output_type": "execute_result"
    }
   ],
   "source": []
  },
  {
   "cell_type": "code",
   "execution_count": null,
   "metadata": {},
   "outputs": [],
   "source": []
  }
 ],
 "metadata": {
  "kernelspec": {
   "display_name": "drug-polymers",
   "language": "python",
   "name": "python3"
  },
  "language_info": {
   "codemirror_mode": {
    "name": "ipython",
    "version": 3
   },
   "file_extension": ".py",
   "mimetype": "text/x-python",
   "name": "python",
   "nbconvert_exporter": "python",
   "pygments_lexer": "ipython3",
   "version": "3.9.7"
  },
  "orig_nbformat": 4,
  "vscode": {
   "interpreter": {
    "hash": "1ecbca60692fcbcdaa1d2bd5d45a516ce56a1dfd695b1b93ce3c934829eab87d"
   }
  }
 },
 "nbformat": 4,
 "nbformat_minor": 2
}
