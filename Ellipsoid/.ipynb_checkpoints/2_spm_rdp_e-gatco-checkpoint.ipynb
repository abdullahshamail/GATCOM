{
 "cells": [
  {
   "cell_type": "code",
   "execution_count": null,
   "metadata": {},
   "outputs": [],
   "source": [
    "import math\n",
    "\n",
    "import numpy as np\n",
    "from rdp import rdp\n",
    "import time\n",
    "from matplotlib import pyplot as plt\n",
    "import pandas as pd\n",
    "from os.path import join\n",
    "import os\n",
    "import math\n",
    "from utilities import runQueryDTheta, loadData, donor_acceptor_dist, spm\n",
    "# %matplotlib widget\n",
    "\n",
    "dataPath = r\"Data\\allAtomsWithRings.csv\"\n",
    "savePath = r\"data\\ellipsoids\"\n",
    "savepathDrive = r\"adbis extension data\"\n",
    "oxygenPath = r\"flavanone_R1_os_0-200K.csv\"\n",
    "oxygen_location = r\"data\\os_200_1.txt\"\n",
    "nitrogenPath = r\"data\\nitrogen200k.txt\"\n",
    "\n"
   ]
  },
  {
   "cell_type": "code",
   "execution_count": null,
   "metadata": {},
   "outputs": [],
   "source": [
    "def performRDP(data, epsilon):\n",
    "    rdpData = rdp(data, epsilon=epsilon, return_mask=True)\n",
    "    myData = []\n",
    "    for i, truth in enumerate(rdpData):\n",
    "        if truth:\n",
    "            temp = list(np.append(data[i,:], i))\n",
    "            myData.append(temp)\n",
    "    myData = np.array(myData)\n",
    "    return myData"
   ]
  },
  {
   "cell_type": "code",
   "execution_count": null,
   "metadata": {},
   "outputs": [],
   "source": [
    "data = pd.read_csv(dataPath)\n",
    "# oxygen = pd.read_csv(oxygenPath, header=None)\n",
    "# oxygen = oxygen.rename(columns={0: \"x\", 1: \"y\", 2: \"z\"})\n",
    "oxygen = loadData(oxygen_location)\n",
    "nitrogen = loadData(nitrogenPath)\n",
    "min_z_points = pd.read_csv(join(savepathDrive, \"min_z_points.csv\"))\n",
    "\n",
    "PSP = 44"
   ]
  },
  {
   "cell_type": "code",
   "execution_count": null,
   "metadata": {},
   "outputs": [],
   "source": [
    "methods = [\"spm\", \"rdp\"]\n",
    "saveLocation = r\"C:\\Users\\ashamail\\OneDrive - Iowa State University\\Molecular Simulation Data\\adbis extension data\\2_spm_rdp\"\n",
    "\n",
    "epsilons = [0.5, 0.75, 1]\n",
    "\n",
    "\n",
    "toappend = np.arange(200000)\n",
    "toappend = toappend.reshape(toappend.shape[0], 1)\n",
    "rflOxygen = np.append(oxygen[:,0,:], toappend, axis = 1)\n",
    "\n",
    "\n",
    "for method in methods:\n",
    "    for epsilon in epsilons:\n",
    "        s1 = time.time()\n",
    "        if method == \"spm\":\n",
    "            out = spm(min_z_points[[\"min_z\", \"timestep\"]].values, epsilon)\n",
    "        else:\n",
    "            out = performRDP(min_z_points[[\"min_z\", \"timestep\"]].values, epsilon)\n",
    "        timesteps = out[:, 2].astype(int)\n",
    "        \n",
    "        print(method, epsilon, \"pre-processing\", time.time() - s1)\n",
    "\n",
    "        print(method, epsilon, \"done with pre processing, starting file saving\")\n",
    "\n",
    "        temp = rflOxygen[timesteps]\n",
    "        np.savetxt(join(saveLocation, method, str(epsilon), \"oxygen.csv\"), temp, delimiter=\",\")\n",
    "        # tempnitrogen = nitrogen[timesteps]\n",
    "        # for i in range(216):\n",
    "        # #     nitrogen[:,i,:].shape\n",
    "        #     nitrogeni = np.append(tempnitrogen[:,i,:], timesteps.reshape(timesteps.shape[0], 1), axis = 1)\n",
    "        #     np.savetxt(join(saveLocation, method, str(epsilon), str(i)+\"-nitrogen.csv\"), nitrogeni, delimiter=\",\")\n",
    "        print(method, epsilon, \"done with saving files, starting query\")\n",
    "        s = time.time()\n",
    "        a, b = donor_acceptor_dist(oxygen[:,0,:], nitrogen, timesteps, hbond_threshold = 3.5 + 2*epsilon)\n",
    "        print(method, epsilon, \"query processing\", a.shape, time.time() - s)"
   ]
  },
  {
   "cell_type": "code",
   "execution_count": null,
   "metadata": {},
   "outputs": [],
   "source": []
  }
 ],
 "metadata": {
  "kernelspec": {
   "display_name": "Python 3 (ipykernel)",
   "language": "python",
   "name": "python3"
  },
  "language_info": {
   "codemirror_mode": {
    "name": "ipython",
    "version": 3
   },
   "file_extension": ".py",
   "mimetype": "text/x-python",
   "name": "python",
   "nbconvert_exporter": "python",
   "pygments_lexer": "ipython3",
   "version": "3.9.7"
  },
  "vscode": {
   "interpreter": {
    "hash": "1ecbca60692fcbcdaa1d2bd5d45a516ce56a1dfd695b1b93ce3c934829eab87d"
   }
  }
 },
 "nbformat": 4,
 "nbformat_minor": 2
}
