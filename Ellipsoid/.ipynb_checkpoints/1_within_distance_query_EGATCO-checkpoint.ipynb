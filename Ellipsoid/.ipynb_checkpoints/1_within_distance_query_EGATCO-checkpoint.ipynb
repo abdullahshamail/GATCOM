{
 "cells": [
  {
   "cell_type": "code",
   "execution_count": null,
   "metadata": {},
   "outputs": [],
   "source": [
    "import math\n",
    "\n",
    "import numpy as np\n",
    "from matplotlib import pyplot as plt\n",
    "from mpl_toolkits.mplot3d import Axes3D\n",
    "import pandas as pd\n",
    "from os.path import join\n",
    "import math\n",
    "import pickle\n",
    "import time\n",
    "from utilities import runQueryDTheta, loadData, donor_acceptor_dist\n",
    "%matplotlib widget\n",
    "\n",
    "dataPath = r\"allAtomsWithRings.csv\"\n",
    "savePath = r\"data\\ellipsoids\"\n",
    "savepathDrive = r\"adbis extension data\"\n",
    "oxygenPath = r\"flavanone_R1_os_0-200K.csv\"\n",
    "oxygen_location = r\"data\\os_200_1.txt\"\n",
    "nitrogenPath = r\"data\\nitrogen200k.txt\"\n",
    "\n"
   ]
  },
  {
   "cell_type": "code",
   "execution_count": null,
   "metadata": {},
   "outputs": [],
   "source": [
    "data = pd.read_csv(dataPath)\n",
    "\n",
    "oxygen = loadData(oxygen_location)\n",
    "nitrogen = loadData(nitrogenPath)\n",
    "df = pd.read_csv(join(savepathDrive, \"min_z_points.csv\"))\n",
    "\n",
    "PSP = 44"
   ]
  },
  {
   "cell_type": "code",
   "execution_count": null,
   "metadata": {},
   "outputs": [],
   "source": [
    "a, b = donor_acceptor_dist(oxygen[:,0,:], nitrogen, np.arange(200000)) #find timesteps for all 200k\n",
    "print(a, a.shape)"
   ]
  },
  {
   "cell_type": "code",
   "execution_count": null,
   "metadata": {},
   "outputs": [],
   "source": [
    "for x in np.arange(1, 7, 1):\n",
    "    print(x, x*-1)"
   ]
  },
  {
   "cell_type": "code",
   "execution_count": null,
   "metadata": {},
   "outputs": [],
   "source": [
    "d_deltas = np.arange(1, 2, 1)\n",
    "countPerDelta = {}\n",
    "df[\"difference\"] = df[\"min_z\"].apply(lambda x: (x - PSP))\n",
    "for delta in d_deltas:\n",
    "    s1 = time.time()\n",
    "    positive = delta\n",
    "    negative = delta*-1\n",
    "    more = df[df[\"difference\"] < positive]\n",
    "    less = df[df[\"difference\"] < negative]\n",
    "    print(more.shape)\n",
    "    print(less.shape)\n",
    "    print(more.shape[0] - less.shape[0])\n",
    "    print(np.setdiff1d(more[\"timestep\"], less[\"timestep\"]).shape)"
   ]
  },
  {
   "cell_type": "code",
   "execution_count": null,
   "metadata": {},
   "outputs": [],
   "source": [
    "# for all timesteps\n",
    "# can also plot an instance using the line below\n",
    "# plot_ell_and_plane(ell, points)\n",
    "d_deltas = np.arange(1, 7, 1)\n",
    "countPerDelta = {}\n",
    "df[\"difference\"] = df[\"min_z\"].apply(lambda x: (x - PSP))\n",
    "for delta in d_deltas:\n",
    "    s1 = time.time()\n",
    "    positive = delta\n",
    "    negative = delta*-1\n",
    "    more = df[df[\"difference\"] < positive]\n",
    "    less = df[df[\"difference\"] < negative]\n",
    "    # points_less_than_delta = df[df[\"difference\"] < delta]\n",
    "    timesteps = np.setdiff1d(more[\"timestep\"], less[\"timestep\"])\n",
    "    print(delta, \"timeframes\", timesteps) #calculate ellipsoid and then calculate distance between min point and PSP using d_delte (1,2,3,4)\n",
    "    # print(points_less_than_delta)\n",
    "    print(delta, \" pre-processing \", time.time() - s1)\n",
    "    s = time.time()\n",
    "    a, b = donor_acceptor_dist(oxygen[:,0,:], nitrogen, timesteps)\n",
    "    # timesteps = runQueryDTheta(np.array(points_less_than_delta[\"timestep\"]), oxygen, PSP) #for each d_delta instances, run the d_theta query\n",
    "    # countPerDelta[delta] = a\n",
    "    print(delta, a, a.shape, time.time() - s)\n",
    "\n",
    "# for key, val in countPerDelta.items():\n",
    "#     print(key, val.shape[0])"
   ]
  },
  {
   "cell_type": "code",
   "execution_count": null,
   "metadata": {},
   "outputs": [],
   "source": [
    "# for all timesteps\n",
    "# can also plot an instance using the line below\n",
    "# plot_ell_and_plane(ell, points)\n",
    "d_deltas = np.arange(-6, 7, 1)\n",
    "countPerDelta = {}\n",
    "df[\"difference\"] = df[\"min_z\"].apply(lambda x: (x - PSP))\n",
    "for delta in d_deltas:\n",
    "    s1 = time.time()\n",
    "    points_less_than_delta = df[df[\"difference\"] < delta]\n",
    "    timesteps = np.array(points_less_than_delta[\"timestep\"])\n",
    "    print(timesteps.shape)\n",
    "    print(points_less_than_delta.shape) #calculate ellipsoid and then calculate distance between min point and PSP using d_delte (1,2,3,4)\n",
    "    # print(points_less_than_delta)\n",
    "    print(delta, \" pre-processing \", time.time() - s1)\n",
    "    s = time.time()\n",
    "    a, b = donor_acceptor_dist(oxygen[:,0,:], nitrogen, timesteps)\n",
    "    # timesteps = runQueryDTheta(np.array(points_less_than_delta[\"timestep\"]), oxygen, PSP) #for each d_delta instances, run the d_theta query\n",
    "    countPerDelta[delta] = a\n",
    "    print(delta, a.shape, time.time() - s)\n",
    "\n",
    "# for key, val in countPerDelta.items():\n",
    "#     print(key, val.shape[0])"
   ]
  },
  {
   "cell_type": "code",
   "execution_count": null,
   "metadata": {},
   "outputs": [],
   "source": [
    "saveLocation = r\"adbis extension data\\e_gatco data\""
   ]
  },
  {
   "cell_type": "code",
   "execution_count": null,
   "metadata": {},
   "outputs": [],
   "source": [
    "# generate data to save to measure space required\n",
    "# d_deltas = [-4,-3,-2,-1,0,1,2,3,4]\n",
    "# countPerDelta = {}\n",
    "# oxygen[:,0,:].shape\n",
    "toappend = np.arange(200000)\n",
    "toappend = toappend.reshape(toappend.shape[0], 1)\n",
    "rflOxygen = np.append(oxygen[:,0,:], toappend, axis = 1)\n",
    "df[\"difference\"] = df[\"min_z\"].apply(lambda x: (x - PSP))\n",
    "for delta in d_deltas:\n",
    "    points_less_than_delta = df[df[\"difference\"] < delta] #calculate ellipsoid and then calculate distance between min point and PSP using d_delte (1,2,3,4)\n",
    "    # print(points_less_than_delta)\n",
    "    timesteps = np.array(points_less_than_delta[\"timestep\"])\n",
    "    \n",
    "    temp = rflOxygen[timesteps]\n",
    "    np.savetxt(join(saveLocation, str(delta), \"oxygen.csv\"), temp, delimiter=\",\")\n",
    "    tempnitrogen = nitrogen[timesteps]\n",
    "    for i in range(216):\n",
    "    #     nitrogen[:,i,:].shape\n",
    "        nitrogeni = np.append(tempnitrogen[:,i,:], timesteps.reshape(timesteps.shape[0], 1), axis = 1)\n",
    "        np.savetxt(join(saveLocation, str(delta), str(i)+\"-nitrogen.csv\"), nitrogeni, delimiter=\",\")\n",
    "    \n",
    "    print(\"done\", delta)\n",
    "    # s = time.time()\n",
    "    # a, b = donor_acceptor_dist(oxygen[:,0,:], nitrogen, timesteps)\n",
    "    # timesteps = runQueryDTheta(np.array(points_less_than_delta[\"timestep\"]), oxygen, PSP) #for each d_delta instances, run the d_theta query\n",
    "    # countPerDelta[delta] = a\n",
    "    # print(delta, a.shape, time.time() - s)"
   ]
  },
  {
   "cell_type": "code",
   "execution_count": null,
   "metadata": {},
   "outputs": [],
   "source": [
    "df[\"difference\"] = df[\"min_z\"].apply(lambda x: (x - PSP))\n",
    "for delta in d_deltas:\n",
    "    points_less_than_delta = df[df[\"difference\"] < delta] #calculate ellipsoid and then calculate distance between min point and PSP using d_delte (1,2,3,4)\n",
    "    # print(points_less_than_delta)\n",
    "    timesteps = np.array(points_less_than_delta[\"timestep\"])\n",
    "    print(timesteps.shape)"
   ]
  },
  {
   "cell_type": "code",
   "execution_count": null,
   "metadata": {},
   "outputs": [],
   "source": [
    "for key, val in countPerDelta.items():\n",
    "    print(key, val, val.shape)"
   ]
  },
  {
   "cell_type": "code",
   "execution_count": null,
   "metadata": {},
   "outputs": [],
   "source": []
  }
 ],
 "metadata": {
  "kernelspec": {
   "display_name": "Python 3 (ipykernel)",
   "language": "python",
   "name": "python3"
  },
  "language_info": {
   "codemirror_mode": {
    "name": "ipython",
    "version": 3
   },
   "file_extension": ".py",
   "mimetype": "text/x-python",
   "name": "python",
   "nbconvert_exporter": "python",
   "pygments_lexer": "ipython3",
   "version": "3.9.7"
  },
  "vscode": {
   "interpreter": {
    "hash": "1ecbca60692fcbcdaa1d2bd5d45a516ce56a1dfd695b1b93ce3c934829eab87d"
   }
  }
 },
 "nbformat": 4,
 "nbformat_minor": 2
}
